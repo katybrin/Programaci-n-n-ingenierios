{
 "cells": [
  {
   "cell_type": "code",
   "execution_count": 1,
   "id": "805d39d2",
   "metadata": {},
   "outputs": [
    {
     "name": "stdout",
     "output_type": "stream",
     "text": [
      "194.87171000000012\n"
     ]
    }
   ],
   "source": [
    "interes=100*(1+0.10)**7\n",
    "print(interes)"
   ]
  },
  {
   "cell_type": "code",
   "execution_count": 2,
   "id": "c9c3bba3",
   "metadata": {},
   "outputs": [
    {
     "name": "stdout",
     "output_type": "stream",
     "text": [
      "100\n"
     ]
    }
   ],
   "source": [
    "ahorro=100\n",
    "print(ahorro)"
   ]
  },
  {
   "cell_type": "code",
   "execution_count": 3,
   "id": "061fe85d",
   "metadata": {},
   "outputs": [
    {
     "name": "stdout",
     "output_type": "stream",
     "text": [
      "194.87171000000012\n"
     ]
    }
   ],
   "source": [
    "ahorro=100\n",
    "mult_anual=(1.1)\n",
    "result=ahorro*(mult_anual)**7\n",
    "print(result)"
   ]
  },
  {
   "cell_type": "code",
   "execution_count": 6,
   "id": "7ae88237",
   "metadata": {},
   "outputs": [
    {
     "name": "stdout",
     "output_type": "stream",
     "text": [
      "cadena de textos\n",
      "True\n"
     ]
    }
   ],
   "source": [
    "desc=str(\"cadena de textos\")\n",
    "print(desc)\n",
    "profit=bool(True)\n",
    "print(profit)"
   ]
  },
  {
   "cell_type": "code",
   "execution_count": 7,
   "id": "9fadb923",
   "metadata": {},
   "outputs": [
    {
     "name": "stdout",
     "output_type": "stream",
     "text": [
      "110.00000000000001\n",
      "<class 'float'>\n",
      "interes compuestointeres compuesto\n"
     ]
    }
   ],
   "source": [
    "ahorro=100\n",
    "mult=1.1\n",
    "desc='interes compuesto'\n",
    "año1=ahorro*(mult)\n",
    "print(año1)\n",
    "print(type(año1))\n",
    "dobledesc=desc+desc\n",
    "print(dobledesc)"
   ]
  },
  {
   "cell_type": "code",
   "execution_count": 10,
   "id": "e38d55c0",
   "metadata": {},
   "outputs": [
    {
     "name": "stdout",
     "output_type": "stream",
     "text": [
      "Empezamos con 100y ahora mismo tengo 194.87171000000012. Que bien!\n",
      "3.1415926\n"
     ]
    }
   ],
   "source": [
    "ahorro=100\n",
    "resultado=100*(1.1)**7\n",
    "print(\"Empezamos con \"+ str(𝑎ℎ𝑜𝑟𝑟𝑜) + \"y ahora mismo tengo \" + str(resultado) + \". Que bien!\")\n",
    "pi_string = \"3.1415926\"\n",
    "pi_float=float(pi_string)\n",
    "print(pi_float)"
   ]
  }
 ],
 "metadata": {
  "kernelspec": {
   "display_name": "Python 3 (ipykernel)",
   "language": "python",
   "name": "python3"
  },
  "language_info": {
   "codemirror_mode": {
    "name": "ipython",
    "version": 3
   },
   "file_extension": ".py",
   "mimetype": "text/x-python",
   "name": "python",
   "nbconvert_exporter": "python",
   "pygments_lexer": "ipython3",
   "version": "3.9.12"
  }
 },
 "nbformat": 4,
 "nbformat_minor": 5
}
